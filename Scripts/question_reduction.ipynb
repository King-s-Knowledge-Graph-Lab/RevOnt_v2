{
  "cells": [
    {
      "cell_type": "markdown",
      "metadata": {
        "id": "Hvs_4XGJj0Fd"
      },
      "source": [
        "# Detecting (highly) similar questions"
      ]
    },
    {
      "cell_type": "code",
      "execution_count": null,
      "metadata": {
        "colab": {
          "base_uri": "https://localhost:8080/"
        },
        "id": "LSbwmWmGYxBu",
        "outputId": "0a3c8d56-968f-47ff-9965-86eae12b77eb"
      },
      "outputs": [
        {
          "name": "stdout",
          "output_type": "stream",
          "text": [
            "The tensorboard extension is already loaded. To reload it, use:\n",
            "  %reload_ext tensorboard\n",
            "Tue Oct 18 13:26:52 2022       \n",
            "+-----------------------------------------------------------------------------+\n",
            "| NVIDIA-SMI 460.32.03    Driver Version: 460.32.03    CUDA Version: 11.2     |\n",
            "|-------------------------------+----------------------+----------------------+\n",
            "| GPU  Name        Persistence-M| Bus-Id        Disp.A | Volatile Uncorr. ECC |\n",
            "| Fan  Temp  Perf  Pwr:Usage/Cap|         Memory-Usage | GPU-Util  Compute M. |\n",
            "|                               |                      |               MIG M. |\n",
            "|===============================+======================+======================|\n",
            "|   0  Tesla T4            Off  | 00000000:00:04.0 Off |                    0 |\n",
            "| N/A   58C    P8    10W /  70W |      3MiB / 15109MiB |      0%      Default |\n",
            "|                               |                      |                  N/A |\n",
            "+-------------------------------+----------------------+----------------------+\n",
            "                                                                               \n",
            "+-----------------------------------------------------------------------------+\n",
            "| Processes:                                                                  |\n",
            "|  GPU   GI   CI        PID   Type   Process name                  GPU Memory |\n",
            "|        ID   ID                                                   Usage      |\n",
            "|=============================================================================|\n",
            "|  No running processes found                                                 |\n",
            "+-----------------------------------------------------------------------------+\n"
          ]
        }
      ],
      "source": [
        "%load_ext tensorboard\n",
        "\n",
        "gpu_info = !nvidia-smi\n",
        "gpu_info = '\\n'.join(gpu_info)\n",
        "if gpu_info.find('failed') >= 0:\n",
        "  print('Not connected to a GPU')\n",
        "else:  # see name of allocated GPU\n",
        "  print(gpu_info)"
      ]
    },
    {
      "cell_type": "code",
      "execution_count": null,
      "metadata": {
        "id": "GywNR801I5Hs"
      },
      "outputs": [],
      "source": [
        "SEED = 46"
      ]
    },
    {
      "cell_type": "code",
      "execution_count": null,
      "metadata": {
        "colab": {
          "base_uri": "https://localhost:8080/"
        },
        "id": "sjdY3wdlY0E8",
        "outputId": "05c07918-187b-4591-e8d6-9991751dc587"
      },
      "outputs": [
        {
          "name": "stdout",
          "output_type": "stream",
          "text": [
            "Looking in indexes: https://pypi.org/simple, https://us-python.pkg.dev/colab-wheels/public/simple/\n",
            "Requirement already satisfied: joblib==1.1.0 in /usr/local/lib/python3.7/dist-packages (1.1.0)\n",
            "Looking in indexes: https://pypi.org/simple, https://us-python.pkg.dev/colab-wheels/public/simple/\n",
            "Requirement already satisfied: sentence-transformers in /usr/local/lib/python3.7/dist-packages (2.2.2)\n",
            "Requirement already satisfied: transformers<5.0.0,>=4.6.0 in /usr/local/lib/python3.7/dist-packages (from sentence-transformers) (4.23.1)\n",
            "Requirement already satisfied: torch>=1.6.0 in /usr/local/lib/python3.7/dist-packages (from sentence-transformers) (1.12.1+cu113)\n",
            "Requirement already satisfied: scipy in /usr/local/lib/python3.7/dist-packages (from sentence-transformers) (1.7.3)\n",
            "Requirement already satisfied: torchvision in /usr/local/lib/python3.7/dist-packages (from sentence-transformers) (0.13.1+cu113)\n",
            "Requirement already satisfied: nltk in /usr/local/lib/python3.7/dist-packages (from sentence-transformers) (3.7)\n",
            "Requirement already satisfied: scikit-learn in /usr/local/lib/python3.7/dist-packages (from sentence-transformers) (1.0.2)\n",
            "Requirement already satisfied: huggingface-hub>=0.4.0 in /usr/local/lib/python3.7/dist-packages (from sentence-transformers) (0.10.1)\n",
            "Requirement already satisfied: tqdm in /usr/local/lib/python3.7/dist-packages (from sentence-transformers) (4.64.1)\n",
            "Requirement already satisfied: sentencepiece in /usr/local/lib/python3.7/dist-packages (from sentence-transformers) (0.1.97)\n",
            "Requirement already satisfied: numpy in /usr/local/lib/python3.7/dist-packages (from sentence-transformers) (1.21.6)\n",
            "Requirement already satisfied: requests in /usr/local/lib/python3.7/dist-packages (from huggingface-hub>=0.4.0->sentence-transformers) (2.23.0)\n",
            "Requirement already satisfied: importlib-metadata in /usr/local/lib/python3.7/dist-packages (from huggingface-hub>=0.4.0->sentence-transformers) (5.0.0)\n",
            "Requirement already satisfied: pyyaml>=5.1 in /usr/local/lib/python3.7/dist-packages (from huggingface-hub>=0.4.0->sentence-transformers) (6.0)\n",
            "Requirement already satisfied: typing-extensions>=3.7.4.3 in /usr/local/lib/python3.7/dist-packages (from huggingface-hub>=0.4.0->sentence-transformers) (4.1.1)\n",
            "Requirement already satisfied: packaging>=20.9 in /usr/local/lib/python3.7/dist-packages (from huggingface-hub>=0.4.0->sentence-transformers) (21.3)\n",
            "Requirement already satisfied: filelock in /usr/local/lib/python3.7/dist-packages (from huggingface-hub>=0.4.0->sentence-transformers) (3.8.0)\n",
            "Requirement already satisfied: pyparsing!=3.0.5,>=2.0.2 in /usr/local/lib/python3.7/dist-packages (from packaging>=20.9->huggingface-hub>=0.4.0->sentence-transformers) (3.0.9)\n",
            "Requirement already satisfied: regex!=2019.12.17 in /usr/local/lib/python3.7/dist-packages (from transformers<5.0.0,>=4.6.0->sentence-transformers) (2022.6.2)\n",
            "Requirement already satisfied: tokenizers!=0.11.3,<0.14,>=0.11.1 in /usr/local/lib/python3.7/dist-packages (from transformers<5.0.0,>=4.6.0->sentence-transformers) (0.13.1)\n",
            "Requirement already satisfied: zipp>=0.5 in /usr/local/lib/python3.7/dist-packages (from importlib-metadata->huggingface-hub>=0.4.0->sentence-transformers) (3.9.0)\n",
            "Requirement already satisfied: click in /usr/local/lib/python3.7/dist-packages (from nltk->sentence-transformers) (7.1.2)\n",
            "Requirement already satisfied: joblib in /usr/local/lib/python3.7/dist-packages (from nltk->sentence-transformers) (1.1.0)\n",
            "Requirement already satisfied: urllib3!=1.25.0,!=1.25.1,<1.26,>=1.21.1 in /usr/local/lib/python3.7/dist-packages (from requests->huggingface-hub>=0.4.0->sentence-transformers) (1.24.3)\n",
            "Requirement already satisfied: chardet<4,>=3.0.2 in /usr/local/lib/python3.7/dist-packages (from requests->huggingface-hub>=0.4.0->sentence-transformers) (3.0.4)\n",
            "Requirement already satisfied: idna<3,>=2.5 in /usr/local/lib/python3.7/dist-packages (from requests->huggingface-hub>=0.4.0->sentence-transformers) (2.10)\n",
            "Requirement already satisfied: certifi>=2017.4.17 in /usr/local/lib/python3.7/dist-packages (from requests->huggingface-hub>=0.4.0->sentence-transformers) (2022.9.24)\n",
            "Requirement already satisfied: threadpoolctl>=2.0.0 in /usr/local/lib/python3.7/dist-packages (from scikit-learn->sentence-transformers) (3.1.0)\n",
            "Requirement already satisfied: pillow!=8.3.*,>=5.3.0 in /usr/local/lib/python3.7/dist-packages (from torchvision->sentence-transformers) (7.1.2)\n",
            "Looking in indexes: https://pypi.org/simple, https://us-python.pkg.dev/colab-wheels/public/simple/\n",
            "Requirement already satisfied: scikit-learn in /usr/local/lib/python3.7/dist-packages (1.0.2)\n",
            "Requirement already satisfied: joblib>=0.11 in /usr/local/lib/python3.7/dist-packages (from scikit-learn) (1.1.0)\n",
            "Requirement already satisfied: numpy>=1.14.6 in /usr/local/lib/python3.7/dist-packages (from scikit-learn) (1.21.6)\n",
            "Requirement already satisfied: threadpoolctl>=2.0.0 in /usr/local/lib/python3.7/dist-packages (from scikit-learn) (3.1.0)\n",
            "Requirement already satisfied: scipy>=1.1.0 in /usr/local/lib/python3.7/dist-packages (from scikit-learn) (1.7.3)\n",
            "Looking in indexes: https://pypi.org/simple, https://us-python.pkg.dev/colab-wheels/public/simple/\n",
            "Requirement already satisfied: hyperopt in /usr/local/lib/python3.7/dist-packages (0.1.2)\n",
            "Requirement already satisfied: future in /usr/local/lib/python3.7/dist-packages (from hyperopt) (0.16.0)\n",
            "Requirement already satisfied: six in /usr/local/lib/python3.7/dist-packages (from hyperopt) (1.15.0)\n",
            "Requirement already satisfied: scipy in /usr/local/lib/python3.7/dist-packages (from hyperopt) (1.7.3)\n",
            "Requirement already satisfied: pymongo in /usr/local/lib/python3.7/dist-packages (from hyperopt) (4.2.0)\n",
            "Requirement already satisfied: tqdm in /usr/local/lib/python3.7/dist-packages (from hyperopt) (4.64.1)\n",
            "Requirement already satisfied: numpy in /usr/local/lib/python3.7/dist-packages (from hyperopt) (1.21.6)\n",
            "Requirement already satisfied: networkx in /usr/local/lib/python3.7/dist-packages (from hyperopt) (2.6.3)\n",
            "Looking in indexes: https://pypi.org/simple, https://us-python.pkg.dev/colab-wheels/public/simple/\n",
            "Requirement already satisfied: umap-learn in /usr/local/lib/python3.7/dist-packages (0.5.3)\n",
            "Requirement already satisfied: tqdm in /usr/local/lib/python3.7/dist-packages (from umap-learn) (4.64.1)\n",
            "Requirement already satisfied: numba>=0.49 in /usr/local/lib/python3.7/dist-packages (from umap-learn) (0.56.2)\n",
            "Requirement already satisfied: scipy>=1.0 in /usr/local/lib/python3.7/dist-packages (from umap-learn) (1.7.3)\n",
            "Requirement already satisfied: scikit-learn>=0.22 in /usr/local/lib/python3.7/dist-packages (from umap-learn) (1.0.2)\n",
            "Requirement already satisfied: numpy>=1.17 in /usr/local/lib/python3.7/dist-packages (from umap-learn) (1.21.6)\n",
            "Requirement already satisfied: pynndescent>=0.5 in /usr/local/lib/python3.7/dist-packages (from umap-learn) (0.5.7)\n",
            "Requirement already satisfied: setuptools<60 in /usr/local/lib/python3.7/dist-packages (from numba>=0.49->umap-learn) (57.4.0)\n",
            "Requirement already satisfied: importlib-metadata in /usr/local/lib/python3.7/dist-packages (from numba>=0.49->umap-learn) (5.0.0)\n",
            "Requirement already satisfied: llvmlite<0.40,>=0.39.0dev0 in /usr/local/lib/python3.7/dist-packages (from numba>=0.49->umap-learn) (0.39.1)\n",
            "Requirement already satisfied: joblib>=0.11 in /usr/local/lib/python3.7/dist-packages (from pynndescent>=0.5->umap-learn) (1.1.0)\n",
            "Requirement already satisfied: threadpoolctl>=2.0.0 in /usr/local/lib/python3.7/dist-packages (from scikit-learn>=0.22->umap-learn) (3.1.0)\n",
            "Requirement already satisfied: typing-extensions>=3.6.4 in /usr/local/lib/python3.7/dist-packages (from importlib-metadata->numba>=0.49->umap-learn) (4.1.1)\n",
            "Requirement already satisfied: zipp>=0.5 in /usr/local/lib/python3.7/dist-packages (from importlib-metadata->numba>=0.49->umap-learn) (3.9.0)\n",
            "Looking in indexes: https://pypi.org/simple, https://us-python.pkg.dev/colab-wheels/public/simple/\n",
            "Requirement already satisfied: hdbscan in /usr/local/lib/python3.7/dist-packages (0.8.28)\n",
            "Requirement already satisfied: scikit-learn>=0.20 in /usr/local/lib/python3.7/dist-packages (from hdbscan) (1.0.2)\n",
            "Requirement already satisfied: cython>=0.27 in /usr/local/lib/python3.7/dist-packages (from hdbscan) (0.29.32)\n",
            "Requirement already satisfied: scipy>=1.0 in /usr/local/lib/python3.7/dist-packages (from hdbscan) (1.7.3)\n",
            "Requirement already satisfied: numpy>=1.20 in /usr/local/lib/python3.7/dist-packages (from hdbscan) (1.21.6)\n",
            "Requirement already satisfied: joblib>=1.0 in /usr/local/lib/python3.7/dist-packages (from hdbscan) (1.1.0)\n",
            "Requirement already satisfied: threadpoolctl>=2.0.0 in /usr/local/lib/python3.7/dist-packages (from scikit-learn>=0.20->hdbscan) (3.1.0)\n",
            "Looking in indexes: https://pypi.org/simple, https://us-python.pkg.dev/colab-wheels/public/simple/\n",
            "Requirement already satisfied: tqdm in /usr/local/lib/python3.7/dist-packages (4.64.1)\n"
          ]
        }
      ],
      "source": [
        "!pip install joblib==1.1.0\n",
        "!pip install -U sentence-transformers\n",
        "!pip install scikit-learn\n",
        "!pip install hyperopt\n",
        "!pip install umap-learn\n",
        "!pip install hdbscan\n",
        "!pip install tqdm"
      ]
    },
    {
      "cell_type": "markdown",
      "metadata": {
        "id": "9mBKocwBk5RD"
      },
      "source": [
        "## Text Embeddings\n",
        "As the goal is to filter sentences with similar meaning, we use sentence-level embeddings, rather than word-level representations. IN particular, here we leverage Sentence-BERT [Reimers and Gurevych, 2020], a “modification of the pretrained BERT network that use siamese and triplet network structures to derive semantically meaningful sentence embeddings that can be compared using cosine-similarity”.\n",
        "\n"
      ]
    },
    {
      "cell_type": "code",
      "execution_count": null,
      "metadata": {
        "colab": {
          "base_uri": "https://localhost:8080/"
        },
        "id": "oeGcstm-r5go",
        "outputId": "400096d6-2440-4f9f-c5fd-ba9b016b4645"
      },
      "outputs": [
        {
          "name": "stdout",
          "output_type": "stream",
          "text": [
            "--2022-10-18 13:27:35--  https://raw.githubusercontent.com/FiorelaCiroku/Ontology-Reverse-Engineering/main/Data/CQList/ComicsCharacter.txt\n",
            "Resolving raw.githubusercontent.com (raw.githubusercontent.com)... 185.199.108.133, 185.199.109.133, 185.199.110.133, ...\n",
            "Connecting to raw.githubusercontent.com (raw.githubusercontent.com)|185.199.108.133|:443... connected.\n",
            "HTTP request sent, awaiting response... 200 OK\n",
            "Length: 46753 (46K) [text/plain]\n",
            "Saving to: ‘questions.txt’\n",
            "\n",
            "\rquestions.txt         0%[                    ]       0  --.-KB/s               \rquestions.txt       100%[===================>]  45.66K  --.-KB/s    in 0.001s  \n",
            "\n",
            "2022-10-18 13:27:35 (61.5 MB/s) - ‘questions.txt’ saved [46753/46753]\n",
            "\n",
            "--2022-10-18 13:27:35--  http://qim.fs.quoracdn.net/quora_duplicate_questions.tsv\n",
            "Resolving qim.fs.quoracdn.net (qim.fs.quoracdn.net)... 151.101.1.2, 151.101.65.2, 151.101.129.2, ...\n",
            "Connecting to qim.fs.quoracdn.net (qim.fs.quoracdn.net)|151.101.1.2|:80... connected.\n",
            "HTTP request sent, awaiting response... 200 OK\n",
            "Length: 58176133 (55M) [text/tab-separated-values]\n",
            "Saving to: ‘qqp.tsv’\n",
            "\n",
            "qqp.tsv             100%[===================>]  55.48M  --.-KB/s    in 0.1s    \n",
            "\n",
            "2022-10-18 13:27:36 (429 MB/s) - ‘qqp.tsv’ saved [58176133/58176133]\n",
            "\n"
          ]
        }
      ],
      "source": [
        "!wget -O questions.txt https://raw.githubusercontent.com/FiorelaCiroku/Ontology-Reverse-Engineering/main/Data/CQList/ComicsCharacter.txt\n",
        "\n",
        "!wget -O qqp.tsv http://qim.fs.quoracdn.net/quora_duplicate_questions.tsv\n",
        "\n",
        "with open('questions.txt') as f:\n",
        "    questions = f.readlines()"
      ]
    },
    {
      "cell_type": "markdown",
      "metadata": {
        "id": "tzYzm-yZjjTf"
      },
      "source": [
        "## Option 1: Dim. reduction + clustering\n",
        "\n",
        "**Dimensionality reduction**. A manifestation of the Curse of Dimensionality is that distance measures, such as Euclidean and Manhattan, needed for clustering become meaningless at such high dimensions (see for example “On the Surprising Behavior of Distance Metrics in High Dimensional Space” by [Aggarwal et al].\n",
        "\n",
        "Here we use Uniform Manifold Approximation and Projection for Dimension Reduction (UMAP) [McInnes et al, 2020], which is more effective at preserving the global structure of the data compared to other method. In contrast to t-SNE, UMAP is useful for both visualization and as a preprocessing dimensionality reduction step to use before clustering.\n",
        "\n",
        "\n",
        "**Clustering**. For our current application, it is preferable to use an algorithm that does not require specifying the number of clusters upfront and can also tolerate noisy data. Density-based algorithms are a good option here as they do not require specifying the number of clusters and are indifferent to cluster shape. Hierarchical Density-Based Spatial Clustering of Applications with Noise (HDBSCAN) has become popular since it has fewer and more intuitive hyperparameters than DBSCAN and is robust to variable-density clusters."
      ]
    },
    {
      "cell_type": "code",
      "execution_count": null,
      "metadata": {
        "id": "qrKA_iS7Y0U5"
      },
      "outputs": [],
      "source": [
        "\n",
        "import random\n",
        "import collections\n",
        "from functools import partial\n",
        "\n",
        "import umap\n",
        "import hdbscan\n",
        "\n",
        "import numpy as np\n",
        "import pandas as pd\n",
        "import matplotlib.pyplot as plt\n",
        "\n",
        "from tqdm.notebook import trange\n",
        "from hyperopt import fmin, tpe, STATUS_OK, space_eval, Trials\n",
        "from sklearn.metrics.cluster import normalized_mutual_info_score\n",
        "from sklearn.metrics.cluster import adjusted_rand_score\n"
      ]
    },
    {
      "cell_type": "code",
      "execution_count": null,
      "metadata": {
        "id": "cznoA83ks9Xn"
      },
      "outputs": [],
      "source": [
        "from typing import List\n",
        "\n",
        "\n",
        "def preprocess_questions(raw_questions : List[str]):\n",
        "  \"\"\"Clean strings and filter out same questions\"\"\"\n",
        "  # Basic string clearning operations\n",
        "  new_questions = [q.strip() for q in raw_questions]\n",
        "  # Removing duplicates already in the set (trivial)\n",
        "  new_questions = list(set(new_questions))\n",
        "\n",
        "  return new_questions\n",
        "\n",
        "\n",
        "def generate_clusters(question_embeddings : List[str],\n",
        "                      n_neighbors : int,\n",
        "                      n_components : int,\n",
        "                      min_cluster_size : int,\n",
        "                      random_state : int = None):\n",
        "    \"\"\"\n",
        "    Generate HDBSCAN cluster object after reducing embedding dimensionality with UMAP\n",
        "    \"\"\"\n",
        "\n",
        "    umap_reduced = (umap.UMAP(n_neighbors=n_neighbors,\n",
        "                              n_components=n_components,\n",
        "                              metric='cosine',\n",
        "                              random_state=random_state)\n",
        "                            .fit_transform(question_embeddings))\n",
        "\n",
        "    clusters = hdbscan.HDBSCAN(min_cluster_size = min_cluster_size,\n",
        "                               metric='euclidean',\n",
        "                               cluster_selection_method='eom').fit(umap_reduced)\n",
        "\n",
        "    return clusters, umap_reduced\n",
        "\n",
        "\n",
        "def plot_best_clusters(embeddings, cluster_labels, n_neighbors=15, min_dist=0.1,\n",
        "                       figsize=(14, 8)):\n",
        "        \"\"\"\n",
        "        Reduce dimensionality of best clusters and plot in 2D using instance\n",
        "        variable result of running bayesian_search\n",
        "        Arguments:\n",
        "            n_neighbors: float, UMAP hyperparameter n_neighbors\n",
        "            min_dist: float, UMAP hyperparameter min_dist for effective\n",
        "                      minimum distance between embedded points\n",
        "        \"\"\"\n",
        "\n",
        "        umap_reduce = (umap.UMAP(n_neighbors=n_neighbors,\n",
        "                                 n_components=2,\n",
        "                                 min_dist=min_dist,\n",
        "                                 # metric='cosine',\n",
        "                                 random_state=42)\n",
        "                           .fit_transform(embeddings)\n",
        "                       )\n",
        "\n",
        "        point_size = 100.0 / np.sqrt(embeddings.shape[0])\n",
        "\n",
        "        result = pd.DataFrame(umap_reduce, columns=['x', 'y'])\n",
        "        result['labels'] = cluster_labels\n",
        "\n",
        "        fig, ax = plt.subplots(figsize=figsize)\n",
        "        noise = result[result.labels == -1]\n",
        "        clustered = result[result.labels != -1]\n",
        "        plt.scatter(noise.x, noise.y, color='lightgrey', s=point_size)\n",
        "        plt.scatter(clustered.x, clustered.y, c=clustered.labels,\n",
        "                    s=point_size, cmap='jet')\n",
        "        plt.colorbar()\n",
        "        plt.show()"
      ]
    },
    {
      "cell_type": "code",
      "execution_count": null,
      "metadata": {
        "id": "UDKM42hfZevC"
      },
      "outputs": [],
      "source": [
        "import logging\n",
        "from sentence_transformers import SentenceTransformer, util, LoggingHandler\n",
        "\n",
        "model_st1 = SentenceTransformer('all-mpnet-base-v2')\n",
        "model_st2 = SentenceTransformer('all-MiniLM-L6-v2')\n",
        "model_st3 = SentenceTransformer('paraphrase-mpnet-base-v2')\n",
        "model_st4 = SentenceTransformer('paraphrase-MiniLM-L3-v2')\n",
        "\n",
        "\n",
        "logging.basicConfig(format='%(asctime)s - %(message)s',\n",
        "                    datefmt='%Y-%m-%d %H:%M:%S',\n",
        "                    level=logging.INFO,\n",
        "                    handlers=[LoggingHandler()])\n",
        "\n",
        "\n",
        "# Choose a model for the encodings for now\n",
        "model = model_st2"
      ]
    },
    {
      "cell_type": "markdown",
      "metadata": {
        "id": "wfYTABowkSAg"
      },
      "source": [
        "### Loading evaluation data"
      ]
    },
    {
      "cell_type": "code",
      "execution_count": null,
      "metadata": {
        "colab": {
          "base_uri": "https://localhost:8080/"
        },
        "id": "TEGevB__qU0H",
        "outputId": "64186245-8f73-4e7f-c287-b898613f29dc"
      },
      "outputs": [
        {
          "name": "stdout",
          "output_type": "stream",
          "text": [
            "There are 537361 unique questions in QPP data\n"
          ]
        }
      ],
      "source": [
        "import hashlib\n",
        "\n",
        "hasher = hashlib.sha256  # hash is used to store pairs efficiently\n",
        "get_hash = lambda x: hasher(x.encode('utf-8')).hexdigest()\n",
        "\n",
        "qpp_data = pd.read_csv(\"qqp.tsv\", sep=\"\\t\")\n",
        "qpp_data[\"question1\"] = qpp_data[\"question1\"].astype(str)\n",
        "qpp_data[\"question2\"] = qpp_data[\"question2\"].astype(str)\n",
        "\n",
        "all_questions = list(set(list(qpp_data.question1) + list(qpp_data.question2)))\n",
        "print(f\"There are {len(all_questions)} unique questions in QPP data\")\n",
        "\n",
        "all_questions_hash = [get_hash(str(q)) for q in all_questions]"
      ]
    },
    {
      "cell_type": "code",
      "execution_count": null,
      "metadata": {
        "id": "5GEUFvc8CBkK"
      },
      "outputs": [],
      "source": []
    },
    {
      "cell_type": "code",
      "execution_count": null,
      "metadata": {
        "id": "f3rR8zA0kULY"
      },
      "outputs": [],
      "source": [
        "positive_hashes, negative_hashes = set(), set()\n",
        "\n",
        "for i, qpair in qpp_data[[\"question1\", \"question2\", \"is_duplicate\"]].iterrows():\n",
        "  q1_hash = get_hash(qpair[\"question1\"])\n",
        "  q2_hash = get_hash(qpair[\"question2\"])\n",
        "\n",
        "  if qpair[\"is_duplicate\"] == 0:\n",
        "    negative_hashes.add((q1_hash, q2_hash))\n",
        "    # negative_hashes.add((q2_hash, q1_hash))\n",
        "  else:  # assuming them to be positive then\n",
        "    positive_hashes.add((q1_hash, q2_hash))\n",
        "    # positive_hashes.add((q2_hash, q1_hash))\n"
      ]
    },
    {
      "cell_type": "code",
      "execution_count": null,
      "metadata": {
        "id": "s3d2MYecvRnl"
      },
      "outputs": [],
      "source": [
        "# Start the multi-process pool on all available CUDA devices\n",
        "pool = model.start_multi_process_pool()\n",
        "\n",
        "questions_embeddings = model.encode_multi_process(all_questions, pool)\n",
        "\n",
        "# Optional: Stop the proccesses in the pool\n",
        "model.stop_multi_process_pool(pool)"
      ]
    },
    {
      "cell_type": "code",
      "execution_count": null,
      "metadata": {
        "id": "EQKpuqNSvRcS"
      },
      "outputs": [],
      "source": [
        "n_neighbors = 15\n",
        "n_components = 5\n",
        "min_cluster_size = 2\n",
        "\n",
        "clusters = generate_clusters(question_embeddings=questions_embeddings,\n",
        "                             n_neighbors=n_neighbors,\n",
        "                             n_components=n_components,\n",
        "                             min_cluster_size=min_cluster_size,\n",
        "                             random_state=SEED)"
      ]
    },
    {
      "cell_type": "code",
      "execution_count": null,
      "metadata": {
        "id": "O0F0vKN7vRCx"
      },
      "outputs": [],
      "source": [
        "label_count = len(np.unique(clusters.labels_))\n",
        "\n",
        "print(f\"Found {label_count} unique cluesters\")"
      ]
    },
    {
      "cell_type": "code",
      "execution_count": null,
      "metadata": {
        "id": "xWQaZULQvQiR"
      },
      "outputs": [],
      "source": [
        "false_positive, unclustered = 0, 0\n",
        "\n",
        "for q_1, q_2 in positive_hashes:\n"
      ]
    },
    {
      "cell_type": "markdown",
      "metadata": {
        "id": "j0ARTtusFJaN"
      },
      "source": [
        "### CQ Clustering"
      ]
    },
    {
      "cell_type": "code",
      "execution_count": null,
      "metadata": {
        "colab": {
          "base_uri": "https://localhost:8080/"
        },
        "id": "UxRVEjbFva_X",
        "outputId": "a6554277-b56a-4921-b1f2-71316eb13bd3"
      },
      "outputs": [
        {
          "name": "stdout",
          "output_type": "stream",
          "text": [
            "Starting no. of questions: 1122\n",
            "No. of questions after pre-processing: 662\n"
          ]
        }
      ],
      "source": [
        "print(f\"Starting no. of questions: {len(questions)}\")\n",
        "new_questions = preprocess_questions(questions)\n",
        "print(f\"No. of questions after pre-processing: {len(new_questions)}\")"
      ]
    },
    {
      "cell_type": "code",
      "execution_count": null,
      "metadata": {
        "id": "erACLBIJvaWS"
      },
      "outputs": [],
      "source": []
    },
    {
      "cell_type": "code",
      "execution_count": null,
      "metadata": {
        "colab": {
          "base_uri": "https://localhost:8080/"
        },
        "id": "7OtzfDYBZ8Yl",
        "outputId": "6be06903-7cdb-4f10-acaf-462ccada3c77"
      },
      "outputs": [
        {
          "data": {
            "text/plain": [
              "(662, 384)"
            ]
          },
          "execution_count": 10,
          "metadata": {},
          "output_type": "execute_result"
        }
      ],
      "source": [
        "questions_sbert = model.encode(new_questions)\n",
        "questions_sbert.shape"
      ]
    },
    {
      "cell_type": "code",
      "execution_count": null,
      "metadata": {
        "id": "Z3lKwHoHDDBS"
      },
      "outputs": [],
      "source": [
        "n_neighbors = 15\n",
        "n_components = 5\n",
        "min_cluster_size = 2\n",
        "\n",
        "\n",
        "clusters, reduced_embed = \\\n",
        "  generate_clusters(question_embeddings=questions_sbert,\n",
        "                    n_neighbors=n_neighbors,\n",
        "                    n_components=n_components,\n",
        "                    min_cluster_size=min_cluster_size,\n",
        "                    random_state=SEED)"
      ]
    },
    {
      "cell_type": "code",
      "execution_count": null,
      "metadata": {
        "colab": {
          "base_uri": "https://localhost:8080/"
        },
        "id": "WstrUtdfHdqQ",
        "outputId": "ac4adc6c-ba37-47da-8655-f70ead329d3d"
      },
      "outputs": [
        {
          "name": "stdout",
          "output_type": "stream",
          "text": [
            "Found 92 unique cluesters\n"
          ]
        }
      ],
      "source": [
        "cluster_labels = clusters.labels_\n",
        "label_count = len(np.unique(cluster_labels))\n",
        "total_num = len(clusters.labels_)\n",
        "\n",
        "print(f\"Found {label_count} unique cluesters\")"
      ]
    },
    {
      "cell_type": "code",
      "execution_count": null,
      "metadata": {
        "colab": {
          "base_uri": "https://localhost:8080/",
          "height": 393
        },
        "id": "Jh7NZfd7H5la",
        "outputId": "962749b4-0049-40f8-cf8d-8b51da7161ed"
      },
      "outputs": [
        {
          "data": {
            "image/png": "[encoded data removed]",
            "text/plain": [
              "<Figure size 1800x720 with 2 Axes>"
            ]
          },
          "metadata": {},
          "output_type": "display_data"
        }
      ],
      "source": [
        "plot_best_clusters(questions_sbert, cluster_labels, figsize=(25, 10))"
      ]
    },
    {
      "cell_type": "code",
      "execution_count": null,
      "metadata": {
        "id": "6iwhZ_GPMa1c"
      },
      "outputs": [],
      "source": [
        "import pandas as pd"
      ]
    },
    {
      "cell_type": "code",
      "execution_count": null,
      "metadata": {
        "colab": {
          "base_uri": "https://localhost:8080/",
          "height": 641
        },
        "id": "QbaRj-ehM39l",
        "outputId": "ebac259b-0cda-4377-90bc-64522db48fdd"
      },
      "outputs": [
        {
          "data": {
            "text/html": [
              "\n",
              "  <div id=\"df-b8da388b-7279-4525-8300-5261eab07c1a\">\n",
              "    <div class=\"colab-df-container\">\n",
              "      <div>\n",
              "<style scoped>\n",
              "    .dataframe tbody tr th:only-of-type {\n",
              "        vertical-align: middle;\n",
              "    }\n",
              "\n",
              "    .dataframe tbody tr th {\n",
              "        vertical-align: top;\n",
              "    }\n",
              "\n",
              "    .dataframe thead th {\n",
              "        text-align: right;\n",
              "    }\n",
              "</style>\n",
              "<table border=\"1\" class=\"dataframe\">\n",
              "  <thead>\n",
              "    <tr style=\"text-align: right;\">\n",
              "      <th></th>\n",
              "      <th>question</th>\n",
              "      <th>cluster</th>\n",
              "    </tr>\n",
              "  </thead>\n",
              "  <tbody>\n",
              "    <tr>\n",
              "      <th>504</th>\n",
              "      <td>What is the name of the fictional character ca...</td>\n",
              "      <td>90</td>\n",
              "    </tr>\n",
              "    <tr>\n",
              "      <th>199</th>\n",
              "      <td>What is the name given to a fictional turtle?</td>\n",
              "      <td>90</td>\n",
              "    </tr>\n",
              "    <tr>\n",
              "      <th>46</th>\n",
              "      <td>What is the pseudonym of the fictional character?</td>\n",
              "      <td>90</td>\n",
              "    </tr>\n",
              "    <tr>\n",
              "      <th>419</th>\n",
              "      <td>What is the fictional character's nickname?</td>\n",
              "      <td>90</td>\n",
              "    </tr>\n",
              "    <tr>\n",
              "      <th>50</th>\n",
              "      <td>What is the fictional character's given name?</td>\n",
              "      <td>90</td>\n",
              "    </tr>\n",
              "    <tr>\n",
              "      <th>...</th>\n",
              "      <td>...</td>\n",
              "      <td>...</td>\n",
              "    </tr>\n",
              "    <tr>\n",
              "      <th>162</th>\n",
              "      <td>Whose facial hair is covered by a chin curtain?</td>\n",
              "      <td>-1</td>\n",
              "    </tr>\n",
              "    <tr>\n",
              "      <th>174</th>\n",
              "      <td>What type of work is present in cartoons?</td>\n",
              "      <td>-1</td>\n",
              "    </tr>\n",
              "    <tr>\n",
              "      <th>178</th>\n",
              "      <td>What type of character wears a necktie?</td>\n",
              "      <td>-1</td>\n",
              "    </tr>\n",
              "    <tr>\n",
              "      <th>471</th>\n",
              "      <td>What is the pseudonym of a faked work?</td>\n",
              "      <td>-1</td>\n",
              "    </tr>\n",
              "    <tr>\n",
              "      <th>497</th>\n",
              "      <td>What is the chin curtain?</td>\n",
              "      <td>-1</td>\n",
              "    </tr>\n",
              "  </tbody>\n",
              "</table>\n",
              "<p>662 rows × 2 columns</p>\n",
              "</div>\n",
              "      <button class=\"colab-df-convert\" onclick=\"convertToInteractive('df-b8da388b-7279-4525-8300-5261eab07c1a')\"\n",
              "              title=\"Convert this dataframe to an interactive table.\"\n",
              "              style=\"display:none;\">\n",
              "        \n",
              "  <svg xmlns=\"http://www.w3.org/2000/svg\" height=\"24px\"viewBox=\"0 0 24 24\"\n",
              "       width=\"24px\">\n",
              "    <path d=\"M0 0h24v24H0V0z\" fill=\"none\"/>\n",
              "    <path d=\"M18.56 5.44l.94 2.06.94-2.06 2.06-.94-2.06-.94-.94-2.06-.94 2.06-2.06.94zm-11 1L8.5 8.5l.94-2.06 2.06-.94-2.06-.94L8.5 2.5l-.94 2.06-2.06.94zm10 10l.94 2.06.94-2.06 2.06-.94-2.06-.94-.94-2.06-.94 2.06-2.06.94z\"/><path d=\"M17.41 7.96l-1.37-1.37c-.4-.4-.92-.59-1.43-.59-.52 0-1.04.2-1.43.59L10.3 9.45l-7.72 7.72c-.78.78-.78 2.05 0 2.83L4 21.41c.39.39.9.59 1.41.59.51 0 1.02-.2 1.41-.59l7.78-7.78 2.81-2.81c.8-.78.8-2.07 0-2.86zM5.41 20L4 18.59l7.72-7.72 1.47 1.35L5.41 20z\"/>\n",
              "  </svg>\n",
              "      </button>\n",
              "      \n",
              "  <style>\n",
              "    .colab-df-container {\n",
              "      display:flex;\n",
              "      flex-wrap:wrap;\n",
              "      gap: 12px;\n",
              "    }\n",
              "\n",
              "    .colab-df-convert {\n",
              "      background-color: #E8F0FE;\n",
              "      border: none;\n",
              "      border-radius: 50%;\n",
              "      cursor: pointer;\n",
              "      display: none;\n",
              "      fill: #1967D2;\n",
              "      height: 32px;\n",
              "      padding: 0 0 0 0;\n",
              "      width: 32px;\n",
              "    }\n",
              "\n",
              "    .colab-df-convert:hover {\n",
              "      background-color: #E2EBFA;\n",
              "      box-shadow: 0px 1px 2px rgba(60, 64, 67, 0.3), 0px 1px 3px 1px rgba(60, 64, 67, 0.15);\n",
              "      fill: #174EA6;\n",
              "    }\n",
              "\n",
              "    [theme=dark] .colab-df-convert {\n",
              "      background-color: #3B4455;\n",
              "      fill: #D2E3FC;\n",
              "    }\n",
              "\n",
              "    [theme=dark] .colab-df-convert:hover {\n",
              "      background-color: #434B5C;\n",
              "      box-shadow: 0px 1px 3px 1px rgba(0, 0, 0, 0.15);\n",
              "      filter: drop-shadow(0px 1px 2px rgba(0, 0, 0, 0.3));\n",
              "      fill: #FFFFFF;\n",
              "    }\n",
              "  </style>\n",
              "\n",
              "      <script>\n",
              "        const buttonEl =\n",
              "          document.querySelector('#df-b8da388b-7279-4525-8300-5261eab07c1a button.colab-df-convert');\n",
              "        buttonEl.style.display =\n",
              "          google.colab.kernel.accessAllowed ? 'block' : 'none';\n",
              "\n",
              "        async function convertToInteractive(key) {\n",
              "          const element = document.querySelector('#df-b8da388b-7279-4525-8300-5261eab07c1a');\n",
              "          const dataTable =\n",
              "            await google.colab.kernel.invokeFunction('convertToInteractive',\n",
              "                                                     [key], {});\n",
              "          if (!dataTable) return;\n",
              "\n",
              "          const docLinkHtml = 'Like what you see? Visit the ' +\n",
              "            '<a target=\"_blank\" href=https://colab.research.google.com/notebooks/data_table.ipynb>data table notebook</a>'\n",
              "            + ' to learn more about interactive tables.';\n",
              "          element.innerHTML = '';\n",
              "          dataTable['output_type'] = 'display_data';\n",
              "          await google.colab.output.renderOutput(dataTable, element);\n",
              "          const docLink = document.createElement('div');\n",
              "          docLink.innerHTML = docLinkHtml;\n",
              "          element.appendChild(docLink);\n",
              "        }\n",
              "      </script>\n",
              "    </div>\n",
              "  </div>\n",
              "  "
            ],
            "text/plain": [
              "                                              question  cluster\n",
              "504  What is the name of the fictional character ca...       90\n",
              "199      What is the name given to a fictional turtle?       90\n",
              "46   What is the pseudonym of the fictional character?       90\n",
              "419        What is the fictional character's nickname?       90\n",
              "50       What is the fictional character's given name?       90\n",
              "..                                                 ...      ...\n",
              "162    Whose facial hair is covered by a chin curtain?       -1\n",
              "174          What type of work is present in cartoons?       -1\n",
              "178            What type of character wears a necktie?       -1\n",
              "471             What is the pseudonym of a faked work?       -1\n",
              "497                          What is the chin curtain?       -1\n",
              "\n",
              "[662 rows x 2 columns]"
            ]
          },
          "execution_count": 18,
          "metadata": {},
          "output_type": "execute_result"
        }
      ],
      "source": [
        "question_assignments = pd.DataFrame({\"question\": new_questions, \"cluster\": cluster_labels})\n",
        "question_assignments.sort_values(\"cluster\", inplace=True, ascending=False)\n",
        "question_assignments"
      ]
    },
    {
      "cell_type": "markdown",
      "metadata": {
        "id": "xwDCAW9Uj9wJ"
      },
      "source": [
        "## Option 2: Paraphrase detection with pre-trained models"
      ]
    },
    {
      "cell_type": "code",
      "execution_count": null,
      "metadata": {
        "id": "xVx2MYbGpexW"
      },
      "outputs": [],
      "source": [
        "import torch"
      ]
    },
    {
      "cell_type": "code",
      "execution_count": null,
      "metadata": {
        "id": "LesPrNXHM5Ef"
      },
      "outputs": [],
      "source": [
        "qpp_data = pd.read_csv(\"qqp.tsv\", sep=\"\\t\")"
      ]
    },
    {
      "cell_type": "code",
      "execution_count": null,
      "metadata": {
        "colab": {
          "base_uri": "https://localhost:8080/",
          "height": 419
        },
        "id": "qb4whcsyh0V6",
        "outputId": "6195bc18-a5ed-4e94-b42a-e94555907073"
      },
      "outputs": [
        {
          "data": {
            "text/html": [
              "\n",
              "  <div id=\"df-6e1aa605-c02c-40ee-9601-655c8ce4e8df\">\n",
              "    <div class=\"colab-df-container\">\n",
              "      <div>\n",
              "<style scoped>\n",
              "    .dataframe tbody tr th:only-of-type {\n",
              "        vertical-align: middle;\n",
              "    }\n",
              "\n",
              "    .dataframe tbody tr th {\n",
              "        vertical-align: top;\n",
              "    }\n",
              "\n",
              "    .dataframe thead th {\n",
              "        text-align: right;\n",
              "    }\n",
              "</style>\n",
              "<table border=\"1\" class=\"dataframe\">\n",
              "  <thead>\n",
              "    <tr style=\"text-align: right;\">\n",
              "      <th></th>\n",
              "      <th>id</th>\n",
              "      <th>qid1</th>\n",
              "      <th>qid2</th>\n",
              "      <th>question1</th>\n",
              "      <th>question2</th>\n",
              "      <th>is_duplicate</th>\n",
              "    </tr>\n",
              "  </thead>\n",
              "  <tbody>\n",
              "    <tr>\n",
              "      <th>0</th>\n",
              "      <td>0</td>\n",
              "      <td>1</td>\n",
              "      <td>2</td>\n",
              "      <td>What is the step by step guide to invest in sh...</td>\n",
              "      <td>What is the step by step guide to invest in sh...</td>\n",
              "      <td>0</td>\n",
              "    </tr>\n",
              "    <tr>\n",
              "      <th>1</th>\n",
              "      <td>1</td>\n",
              "      <td>3</td>\n",
              "      <td>4</td>\n",
              "      <td>What is the story of Kohinoor (Koh-i-Noor) Dia...</td>\n",
              "      <td>What would happen if the Indian government sto...</td>\n",
              "      <td>0</td>\n",
              "    </tr>\n",
              "    <tr>\n",
              "      <th>2</th>\n",
              "      <td>2</td>\n",
              "      <td>5</td>\n",
              "      <td>6</td>\n",
              "      <td>How can I increase the speed of my internet co...</td>\n",
              "      <td>How can Internet speed be increased by hacking...</td>\n",
              "      <td>0</td>\n",
              "    </tr>\n",
              "    <tr>\n",
              "      <th>3</th>\n",
              "      <td>3</td>\n",
              "      <td>7</td>\n",
              "      <td>8</td>\n",
              "      <td>Why am I mentally very lonely? How can I solve...</td>\n",
              "      <td>Find the remainder when [math]23^{24}[/math] i...</td>\n",
              "      <td>0</td>\n",
              "    </tr>\n",
              "    <tr>\n",
              "      <th>4</th>\n",
              "      <td>4</td>\n",
              "      <td>9</td>\n",
              "      <td>10</td>\n",
              "      <td>Which one dissolve in water quikly sugar, salt...</td>\n",
              "      <td>Which fish would survive in salt water?</td>\n",
              "      <td>0</td>\n",
              "    </tr>\n",
              "    <tr>\n",
              "      <th>...</th>\n",
              "      <td>...</td>\n",
              "      <td>...</td>\n",
              "      <td>...</td>\n",
              "      <td>...</td>\n",
              "      <td>...</td>\n",
              "      <td>...</td>\n",
              "    </tr>\n",
              "    <tr>\n",
              "      <th>404285</th>\n",
              "      <td>404285</td>\n",
              "      <td>433578</td>\n",
              "      <td>379845</td>\n",
              "      <td>How many keywords are there in the Racket prog...</td>\n",
              "      <td>How many keywords are there in PERL Programmin...</td>\n",
              "      <td>0</td>\n",
              "    </tr>\n",
              "    <tr>\n",
              "      <th>404286</th>\n",
              "      <td>404286</td>\n",
              "      <td>18840</td>\n",
              "      <td>155606</td>\n",
              "      <td>Do you believe there is life after death?</td>\n",
              "      <td>Is it true that there is life after death?</td>\n",
              "      <td>1</td>\n",
              "    </tr>\n",
              "    <tr>\n",
              "      <th>404287</th>\n",
              "      <td>404287</td>\n",
              "      <td>537928</td>\n",
              "      <td>537929</td>\n",
              "      <td>What is one coin?</td>\n",
              "      <td>What's this coin?</td>\n",
              "      <td>0</td>\n",
              "    </tr>\n",
              "    <tr>\n",
              "      <th>404288</th>\n",
              "      <td>404288</td>\n",
              "      <td>537930</td>\n",
              "      <td>537931</td>\n",
              "      <td>What is the approx annual cost of living while...</td>\n",
              "      <td>I am having little hairfall problem but I want...</td>\n",
              "      <td>0</td>\n",
              "    </tr>\n",
              "    <tr>\n",
              "      <th>404289</th>\n",
              "      <td>404289</td>\n",
              "      <td>537932</td>\n",
              "      <td>537933</td>\n",
              "      <td>What is like to have sex with cousin?</td>\n",
              "      <td>What is it like to have sex with your cousin?</td>\n",
              "      <td>0</td>\n",
              "    </tr>\n",
              "  </tbody>\n",
              "</table>\n",
              "<p>404290 rows × 6 columns</p>\n",
              "</div>\n",
              "      <button class=\"colab-df-convert\" onclick=\"convertToInteractive('df-6e1aa605-c02c-40ee-9601-655c8ce4e8df')\"\n",
              "              title=\"Convert this dataframe to an interactive table.\"\n",
              "              style=\"display:none;\">\n",
              "        \n",
              "  <svg xmlns=\"http://www.w3.org/2000/svg\" height=\"24px\"viewBox=\"0 0 24 24\"\n",
              "       width=\"24px\">\n",
              "    <path d=\"M0 0h24v24H0V0z\" fill=\"none\"/>\n",
              "    <path d=\"M18.56 5.44l.94 2.06.94-2.06 2.06-.94-2.06-.94-.94-2.06-.94 2.06-2.06.94zm-11 1L8.5 8.5l.94-2.06 2.06-.94-2.06-.94L8.5 2.5l-.94 2.06-2.06.94zm10 10l.94 2.06.94-2.06 2.06-.94-2.06-.94-.94-2.06-.94 2.06-2.06.94z\"/><path d=\"M17.41 7.96l-1.37-1.37c-.4-.4-.92-.59-1.43-.59-.52 0-1.04.2-1.43.59L10.3 9.45l-7.72 7.72c-.78.78-.78 2.05 0 2.83L4 21.41c.39.39.9.59 1.41.59.51 0 1.02-.2 1.41-.59l7.78-7.78 2.81-2.81c.8-.78.8-2.07 0-2.86zM5.41 20L4 18.59l7.72-7.72 1.47 1.35L5.41 20z\"/>\n",
              "  </svg>\n",
              "      </button>\n",
              "      \n",
              "  <style>\n",
              "    .colab-df-container {\n",
              "      display:flex;\n",
              "      flex-wrap:wrap;\n",
              "      gap: 12px;\n",
              "    }\n",
              "\n",
              "    .colab-df-convert {\n",
              "      background-color: #E8F0FE;\n",
              "      border: none;\n",
              "      border-radius: 50%;\n",
              "      cursor: pointer;\n",
              "      display: none;\n",
              "      fill: #1967D2;\n",
              "      height: 32px;\n",
              "      padding: 0 0 0 0;\n",
              "      width: 32px;\n",
              "    }\n",
              "\n",
              "    .colab-df-convert:hover {\n",
              "      background-color: #E2EBFA;\n",
              "      box-shadow: 0px 1px 2px rgba(60, 64, 67, 0.3), 0px 1px 3px 1px rgba(60, 64, 67, 0.15);\n",
              "      fill: #174EA6;\n",
              "    }\n",
              "\n",
              "    [theme=dark] .colab-df-convert {\n",
              "      background-color: #3B4455;\n",
              "      fill: #D2E3FC;\n",
              "    }\n",
              "\n",
              "    [theme=dark] .colab-df-convert:hover {\n",
              "      background-color: #434B5C;\n",
              "      box-shadow: 0px 1px 3px 1px rgba(0, 0, 0, 0.15);\n",
              "      filter: drop-shadow(0px 1px 2px rgba(0, 0, 0, 0.3));\n",
              "      fill: #FFFFFF;\n",
              "    }\n",
              "  </style>\n",
              "\n",
              "      <script>\n",
              "        const buttonEl =\n",
              "          document.querySelector('#df-6e1aa605-c02c-40ee-9601-655c8ce4e8df button.colab-df-convert');\n",
              "        buttonEl.style.display =\n",
              "          google.colab.kernel.accessAllowed ? 'block' : 'none';\n",
              "\n",
              "        async function convertToInteractive(key) {\n",
              "          const element = document.querySelector('#df-6e1aa605-c02c-40ee-9601-655c8ce4e8df');\n",
              "          const dataTable =\n",
              "            await google.colab.kernel.invokeFunction('convertToInteractive',\n",
              "                                                     [key], {});\n",
              "          if (!dataTable) return;\n",
              "\n",
              "          const docLinkHtml = 'Like what you see? Visit the ' +\n",
              "            '<a target=\"_blank\" href=https://colab.research.google.com/notebooks/data_table.ipynb>data table notebook</a>'\n",
              "            + ' to learn more about interactive tables.';\n",
              "          element.innerHTML = '';\n",
              "          dataTable['output_type'] = 'display_data';\n",
              "          await google.colab.output.renderOutput(dataTable, element);\n",
              "          const docLink = document.createElement('div');\n",
              "          docLink.innerHTML = docLinkHtml;\n",
              "          element.appendChild(docLink);\n",
              "        }\n",
              "      </script>\n",
              "    </div>\n",
              "  </div>\n",
              "  "
            ],
            "text/plain": [
              "            id    qid1    qid2  \\\n",
              "0            0       1       2   \n",
              "1            1       3       4   \n",
              "2            2       5       6   \n",
              "3            3       7       8   \n",
              "4            4       9      10   \n",
              "...        ...     ...     ...   \n",
              "404285  404285  433578  379845   \n",
              "404286  404286   18840  155606   \n",
              "404287  404287  537928  537929   \n",
              "404288  404288  537930  537931   \n",
              "404289  404289  537932  537933   \n",
              "\n",
              "                                                question1  \\\n",
              "0       What is the step by step guide to invest in sh...   \n",
              "1       What is the story of Kohinoor (Koh-i-Noor) Dia...   \n",
              "2       How can I increase the speed of my internet co...   \n",
              "3       Why am I mentally very lonely? How can I solve...   \n",
              "4       Which one dissolve in water quikly sugar, salt...   \n",
              "...                                                   ...   \n",
              "404285  How many keywords are there in the Racket prog...   \n",
              "404286          Do you believe there is life after death?   \n",
              "404287                                  What is one coin?   \n",
              "404288  What is the approx annual cost of living while...   \n",
              "404289              What is like to have sex with cousin?   \n",
              "\n",
              "                                                question2  is_duplicate  \n",
              "0       What is the step by step guide to invest in sh...             0  \n",
              "1       What would happen if the Indian government sto...             0  \n",
              "2       How can Internet speed be increased by hacking...             0  \n",
              "3       Find the remainder when [math]23^{24}[/math] i...             0  \n",
              "4                 Which fish would survive in salt water?             0  \n",
              "...                                                   ...           ...  \n",
              "404285  How many keywords are there in PERL Programmin...             0  \n",
              "404286         Is it true that there is life after death?             1  \n",
              "404287                                  What's this coin?             0  \n",
              "404288  I am having little hairfall problem but I want...             0  \n",
              "404289      What is it like to have sex with your cousin?             0  \n",
              "\n",
              "[404290 rows x 6 columns]"
            ]
          },
          "execution_count": 19,
          "metadata": {},
          "output_type": "execute_result"
        }
      ],
      "source": [
        "qpp_data"
      ]
    },
    {
      "cell_type": "code",
      "execution_count": null,
      "metadata": {
        "colab": {
          "base_uri": "https://localhost:8080/"
        },
        "id": "eWYmAqZmh9QW",
        "outputId": "8e2c9f07-55e9-41c1-a92e-ec5de29a66aa"
      },
      "outputs": [
        {
          "name": "stdout",
          "output_type": "stream",
          "text": [
            "There are 537361 unique questions in QPP data\n"
          ]
        }
      ],
      "source": [
        "all_questions = list(set(list(qpp_data.question1) + list(qpp_data.question2)))\n",
        "print(f\"There are {len(all_questions)} unique questions in QPP data\")"
      ]
    },
    {
      "cell_type": "code",
      "execution_count": null,
      "metadata": {
        "id": "MNsA1leeiHyG"
      },
      "outputs": [],
      "source": [
        "x, y = qpp_data[[\"question1\", \"question2\"]].values, qpp_data[\"is_duplicate\"].values"
      ]
    },
    {
      "cell_type": "code",
      "execution_count": null,
      "metadata": {
        "id": "2Sho1aQ-kzS1"
      },
      "outputs": [],
      "source": [
        "#Start the multi-process pool on all available CUDA devices\n",
        "pool = model.start_multi_process_pool()\n",
        "\n",
        "#Compute the embeddings using the multi-process pool\n",
        "x_a = model.encode_multi_process(x[:, 0], pool)\n",
        "x_b = model.encode_multi_process(x[:, 1], pool)\n",
        "\n",
        "#Optional: Stop the proccesses in the pool\n",
        "model.stop_multi_process_pool(pool)"
      ]
    },
    {
      "cell_type": "code",
      "execution_count": null,
      "metadata": {
        "id": "mW_vF0rWk1wW"
      },
      "outputs": [],
      "source": [
        "x_a_sample = torch.tensor(x_a[:20]).to(torch.float32)\n",
        "x_b_sample = torch.tensor(x_b[:20]).to(torch.float32)\n",
        "\n",
        "x_a_t = torch.tensor(x_a).to(torch.float32)\n",
        "x_b_t = torch.tensor(x_b).to(torch.float32)"
      ]
    },
    {
      "cell_type": "code",
      "execution_count": null,
      "metadata": {
        "id": "ge5m-_oplLH9"
      },
      "outputs": [],
      "source": [
        "# Analysing distribution of cosine similarities for positive-negative questions\n",
        "cosim = torch.nn.CosineSimilarity(dim=1, eps=1e-08)\n",
        "\n",
        "x_ab_cosim = cosim(x_a_t, x_b_t)\n",
        "\n",
        "cosim_positive = torch.index_select(\n",
        "    x_ab_cosim, 0, torch.from_numpy(np.argwhere(y)).flatten()).numpy()\n",
        "cosim_negative = torch.index_select(\n",
        "    x_ab_cosim, 0, torch.from_numpy(np.argwhere(1-y)).flatten()).numpy()"
      ]
    },
    {
      "cell_type": "code",
      "execution_count": null,
      "metadata": {
        "colab": {
          "base_uri": "https://localhost:8080/",
          "height": 643
        },
        "id": "pMr0uwVAshLT",
        "outputId": "9b375ac7-bfe8-4000-f980-d58886d0d689"
      },
      "outputs": [
        {
          "name": "stderr",
          "output_type": "stream",
          "text": [
            "/usr/local/lib/python3.7/dist-packages/seaborn/distributions.py:2619: FutureWarning: `distplot` is a deprecated function and will be removed in a future version. Please adapt your code to use either `displot` (a figure-level function with similar flexibility) or `histplot` (an axes-level function for histograms).\n",
            "  warnings.warn(msg, FutureWarning)\n",
            "/usr/local/lib/python3.7/dist-packages/seaborn/distributions.py:2619: FutureWarning: `distplot` is a deprecated function and will be removed in a future version. Please adapt your code to use either `displot` (a figure-level function with similar flexibility) or `histplot` (an axes-level function for histograms).\n",
            "  warnings.warn(msg, FutureWarning)\n"
          ]
        },
        {
          "data": {
            "image/png": "[encoded data removed]",
            "text/plain": [
              "<Figure size 1440x576 with 1 Axes>"
            ]
          },
          "metadata": {
            "needs_background": "light"
          },
          "output_type": "display_data"
        }
      ],
      "source": [
        "import seaborn as sns\n",
        "import matplotlib.pyplot as plt\n",
        "\n",
        "fig, ax = plt.subplots(figsize=(20, 8))\n",
        "\n",
        "sns.distplot(x=cosim_positive, label=\"positives\", ax=ax)\n",
        "sns.distplot(x=cosim_negative, label=\"negatives\", ax=ax)\n",
        "\n",
        "ax.legend()\n",
        "ax.set_title(\"Distribution of cosine similarities per positive-negative question pairs\", fontsize=18)\n",
        "ax.set_xlabel(\"cosine similarity\")\n",
        "\n",
        "plt.axvline(x = 0.8, color = 'b')\n",
        "\n",
        "\n",
        "plt.tight_layout()"
      ]
    },
    {
      "cell_type": "code",
      "execution_count": null,
      "metadata": {
        "id": "I0Df36sKtBQK"
      },
      "outputs": [],
      "source": []
    },
    {
      "cell_type": "markdown",
      "metadata": {
        "id": "pfoq1MC5Ippo"
      },
      "source": [
        "## Classification"
      ]
    },
    {
      "cell_type": "code",
      "execution_count": null,
      "metadata": {
        "colab": {
          "base_uri": "https://localhost:8080/"
        },
        "id": "9MtNSLglwC0w",
        "outputId": "d5d9729f-df29-4fa3-a572-448601b1dc70"
      },
      "outputs": [
        {
          "data": {
            "text/plain": [
              "device(type='cuda', index=0)"
            ]
          },
          "execution_count": 26,
          "metadata": {},
          "output_type": "execute_result"
        }
      ],
      "source": [
        "import torch\n",
        "import torch.nn as nn\n",
        "import torch.nn.functional as F\n",
        "import torch.optim as optim\n",
        "from torch.utils.data import TensorDataset, DataLoader, random_split\n",
        "\n",
        "BATCH_SIZE = 128\n",
        "\n",
        "device = torch.device('cuda:0' if torch.cuda.is_available() else 'cpu')\n",
        "device\n"
      ]
    },
    {
      "cell_type": "code",
      "execution_count": null,
      "metadata": {
        "colab": {
          "base_uri": "https://localhost:8080/"
        },
        "id": "n9Uk9aSXJVbc",
        "outputId": "63f81a2e-1e63-4f73-fd84-620899b80950"
      },
      "outputs": [
        {
          "name": "stdout",
          "output_type": "stream",
          "text": [
            "X shape: torch.Size([404290, 2, 384])\n"
          ]
        }
      ],
      "source": [
        "X = torch.stack((x_a_t, x_b_t))\n",
        "X = torch.swapaxes(X, 0, 1)\n",
        "print(f\"X shape: {X.shape}\")\n",
        "\n",
        "# Creating full torch dataset and train-test splits\n",
        "cqq_dataset = TensorDataset(X, torch.tensor(y).to(torch.float32))\n",
        "\n",
        "dev_size = int(0.8 * len(cqq_dataset))\n",
        "test_size = len(cqq_dataset) - dev_size\n",
        "dev_set, test_set = torch.utils.data.random_split(\n",
        "    cqq_dataset, [dev_size, test_size])\n",
        "\n",
        "train_size = int(0.8 * len(dev_set))\n",
        "valid_size = len(dev_set) - train_size\n",
        "train_set, valid_set = torch.utils.data.random_split(\n",
        "    dev_set, [train_size, valid_size])\n",
        "\n",
        "# Creating data loaders\n",
        "train_loader = torch.utils.data.DataLoader(\n",
        "    train_set, batch_size=BATCH_SIZE, shuffle=True)\n",
        "\n",
        "valid_loader = torch.utils.data.DataLoader(valid_set, batch_size=BATCH_SIZE)\n",
        "\n",
        "test_loader = torch.utils.data.DataLoader(test_set, batch_size=BATCH_SIZE)\n",
        "\n",
        "assert len(train_set) + len(valid_set) + len(test_set) == len(cqq_dataset)"
      ]
    },
    {
      "cell_type": "code",
      "execution_count": null,
      "metadata": {
        "id": "QPbogKcLNKDX"
      },
      "outputs": [],
      "source": [
        "class SiameseClassifier(nn.Module):\n",
        "    def __init__(self, embed_dim, projection=True):\n",
        "        super().__init__()\n",
        "\n",
        "        if projection:  # include linear projection layer\n",
        "          self.projection = nn.Linear(embed_dim, embed_dim)\n",
        "        # Fully connected layers + binary classification\n",
        "        self.fc1 = nn.Linear(embed_dim, embed_dim)\n",
        "        self.batchnorm1 = nn.BatchNorm1d(embed_dim)\n",
        "        self.fc2 = nn.Linear(embed_dim, 128)\n",
        "        self.batchnorm2 = nn.BatchNorm1d(128)\n",
        "        self.fc3 = nn.Linear(128, 32)\n",
        "        self.batchnorm3 = nn.BatchNorm1d(32)\n",
        "        self.classifier = nn.Linear(32, 1)\n",
        "        self.dropout = nn.Dropout(p=.5)\n",
        "\n",
        "    def forward(self, x_a, x_b):\n",
        "        # x_a, x_b = x[0], x[1]  # unpacking question embeddings (embed_dim)\n",
        "        x_a = self.projection(x_a)  # linear projection of x_a (embed_dim)\n",
        "        x_b = self.projection(x_b)  # linear projection of x_b (embed_dim)\n",
        "        x = x_a * x_b  # additive/multiplicative feature fusion\n",
        "        x = F.relu(self.batchnorm1(self.fc1(x)))\n",
        "        x = self.dropout(x)\n",
        "        x = F.relu(self.batchnorm2(self.fc2(x)))\n",
        "        x = self.dropout(x)\n",
        "        x = F.relu(self.batchnorm3(self.fc3(x)))\n",
        "        x = self.dropout(x)\n",
        "        x = self.classifier(x)\n",
        "        return x.flatten()"
      ]
    },
    {
      "cell_type": "code",
      "execution_count": null,
      "metadata": {
        "id": "tlR4-BNZigKy"
      },
      "outputs": [],
      "source": [
        "# del questioner"
      ]
    },
    {
      "cell_type": "code",
      "execution_count": null,
      "metadata": {
        "id": "WrgT36Vt-aLI"
      },
      "outputs": [],
      "source": [
        "questioner = SiameseClassifier(embed_dim=X.shape[-1])\n",
        "questioner = questioner.to(device=device)\n",
        "\n",
        "criterion = torch.nn.BCEWithLogitsLoss()\n",
        "optimizer = optim.SGD(questioner.parameters(), lr=0.001, momentum=0.9)\n",
        "optimizer = optim.Adam(questioner.parameters(), lr=0.001)\n",
        "# optimizer = optim.RMSprop(questioner.parameters(), lr=0.001)\n"
      ]
    },
    {
      "cell_type": "code",
      "execution_count": null,
      "metadata": {
        "id": "QTU5pMG4-eae"
      },
      "outputs": [],
      "source": [
        "def train_loop(dataloader, model, loss_fn, optimizer, log=False):\n",
        "\n",
        "    size = len(dataloader.dataset)\n",
        "    num_batches = len(dataloader)\n",
        "    epoch_loss = 0.\n",
        "\n",
        "    model.train()  # use dropout and batchnorm\n",
        "\n",
        "    for batch, data in enumerate(train_loader, 0):\n",
        "        # get the inputs; data is a list of [inputs, labels]\n",
        "        inputs, labels = data\n",
        "        inputs = inputs.to(device=device)\n",
        "        labels = labels.to(device=device)\n",
        "        # zero the parameter gradients\n",
        "        optimizer.zero_grad()\n",
        "        # forward + backward + optimize\n",
        "        x_a, x_b = inputs[:, 0, :], inputs[:, 1, :]\n",
        "        outputs = model(x_a, x_b)\n",
        "\n",
        "        loss = loss_fn(outputs, labels)\n",
        "        loss_float = loss.item()\n",
        "        epoch_loss += loss_float\n",
        "\n",
        "        loss.backward()\n",
        "        optimizer.step()\n",
        "\n",
        "        if batch % 100 == 0 and log:\n",
        "            current = batch * len(inputs)\n",
        "            print(f\"loss: {loss_float:>7f}  [{current:>5d}/{size:>5d}]\")\n",
        "\n",
        "    epoch_loss /= num_batches\n",
        "    return epoch_loss\n",
        "\n",
        "\n",
        "def test_loop(dataloader, model, loss_fn):\n",
        "\n",
        "    size = len(dataloader.dataset)\n",
        "    num_batches = len(dataloader)\n",
        "    test_loss, correct = 0, 0\n",
        "\n",
        "    model.eval()  # skip dropout and batchnorm\n",
        "\n",
        "    with torch.no_grad():\n",
        "        for inputs, labels in dataloader:\n",
        "          inputs = inputs.to(device=device)\n",
        "          labels = labels.to(device=device)\n",
        "          x_a, x_b = inputs[:, 0, :], inputs[:, 1, :]\n",
        "\n",
        "          pred = model(x_a, x_b)\n",
        "          classes = ((torch.sigmoid(pred) > 0.5)+0).ravel()\n",
        "          classes = classes.to(torch.float32)\n",
        "\n",
        "          test_loss += loss_fn(pred, labels).item()\n",
        "          correct += (classes == labels).type(torch.float32).sum().item()\n",
        "\n",
        "    test_loss /= num_batches\n",
        "    correct /= size\n",
        "\n",
        "    return test_loss, correct\n",
        "\n"
      ]
    },
    {
      "cell_type": "code",
      "execution_count": null,
      "metadata": {
        "colab": {
          "base_uri": "https://localhost:8080/",
          "height": 1000
        },
        "id": "fkzjuAJ2R463",
        "outputId": "99c8f78e-d548-4bee-d79f-201b339a35fe"
      },
      "outputs": [
        {
          "name": "stdout",
          "output_type": "stream",
          "text": [
            "Epoch 1\n",
            "-------------------------------\n",
            "  Training: Avg loss: 0.512259\n",
            "  Validation: acc. 77.5%, Avg loss: 0.459834\n",
            "Epoch 2\n",
            "-------------------------------\n",
            "  Training: Avg loss: 0.471050\n",
            "  Validation: acc. 78.8%, Avg loss: 0.439627\n",
            "Epoch 3\n",
            "-------------------------------\n",
            "  Training: Avg loss: 0.454477\n",
            "  Validation: acc. 79.5%, Avg loss: 0.425127\n",
            "Epoch 4\n",
            "-------------------------------\n",
            "  Training: Avg loss: 0.441080\n",
            "  Validation: acc. 80.1%, Avg loss: 0.419303\n",
            "Epoch 5\n",
            "-------------------------------\n",
            "  Training: Avg loss: 0.431162\n",
            "  Validation: acc. 80.2%, Avg loss: 0.411973\n",
            "Epoch 6\n",
            "-------------------------------\n",
            "  Training: Avg loss: 0.423939\n",
            "  Validation: acc. 80.7%, Avg loss: 0.408244\n",
            "Epoch 7\n",
            "-------------------------------\n",
            "  Training: Avg loss: 0.414212\n",
            "  Validation: acc. 80.8%, Avg loss: 0.401740\n",
            "Epoch 8\n",
            "-------------------------------\n",
            "  Training: Avg loss: 0.408725\n",
            "  Validation: acc. 80.9%, Avg loss: 0.399667\n",
            "Epoch 9\n",
            "-------------------------------\n",
            "  Training: Avg loss: 0.402125\n",
            "  Validation: acc. 81.2%, Avg loss: 0.394150\n",
            "Epoch 10\n",
            "-------------------------------\n",
            "  Training: Avg loss: 0.395838\n",
            "  Validation: acc. 81.3%, Avg loss: 0.393877\n",
            "Epoch 11\n",
            "-------------------------------\n",
            "  Training: Avg loss: 0.391924\n",
            "  Validation: acc. 81.4%, Avg loss: 0.389751\n",
            "Epoch 12\n",
            "-------------------------------\n",
            "  Training: Avg loss: 0.387099\n",
            "  Validation: acc. 81.7%, Avg loss: 0.386635\n",
            "Epoch 13\n",
            "-------------------------------\n",
            "  Training: Avg loss: 0.382875\n",
            "  Validation: acc. 81.8%, Avg loss: 0.387818\n",
            "Epoch 14\n",
            "-------------------------------\n",
            "  Training: Avg loss: 0.377544\n",
            "  Validation: acc. 81.9%, Avg loss: 0.384819\n",
            "Epoch 15\n",
            "-------------------------------\n",
            "  Training: Avg loss: 0.375433\n",
            "  Validation: acc. 82.1%, Avg loss: 0.382428\n",
            "Epoch 16\n",
            "-------------------------------\n",
            "  Training: Avg loss: 0.372317\n",
            "  Validation: acc. 82.2%, Avg loss: 0.380843\n",
            "Epoch 17\n",
            "-------------------------------\n",
            "  Training: Avg loss: 0.367810\n",
            "  Validation: acc. 82.2%, Avg loss: 0.380768\n",
            "Epoch 18\n",
            "-------------------------------\n",
            "  Training: Avg loss: 0.368282\n",
            "  Validation: acc. 82.4%, Avg loss: 0.378008\n",
            "Epoch 19\n",
            "-------------------------------\n",
            "  Training: Avg loss: 0.363443\n",
            "  Validation: acc. 82.5%, Avg loss: 0.377886\n",
            "Epoch 20\n",
            "-------------------------------\n",
            "  Training: Avg loss: 0.361772\n",
            "  Validation: acc. 82.5%, Avg loss: 0.374597\n",
            "Epoch 21\n",
            "-------------------------------\n",
            "  Training: Avg loss: 0.358843\n",
            "  Validation: acc. 82.5%, Avg loss: 0.374388\n",
            "Epoch 22\n",
            "-------------------------------\n",
            "  Training: Avg loss: 0.355986\n",
            "  Validation: acc. 82.5%, Avg loss: 0.375253\n",
            "Epoch 23\n",
            "-------------------------------\n",
            "  Training: Avg loss: 0.354517\n",
            "  Validation: acc. 82.5%, Avg loss: 0.374902\n",
            "Epoch 24\n",
            "-------------------------------\n",
            "  Training: Avg loss: 0.352685\n",
            "  Validation: acc. 82.7%, Avg loss: 0.372734\n",
            "Epoch 25\n",
            "-------------------------------\n",
            "  Training: Avg loss: 0.350758\n",
            "  Validation: acc. 82.7%, Avg loss: 0.372015\n",
            "Epoch 26\n",
            "-------------------------------\n",
            "  Training: Avg loss: 0.348836\n",
            "  Validation: acc. 82.6%, Avg loss: 0.372309\n",
            "Epoch 27\n",
            "-------------------------------\n",
            "  Training: Avg loss: 0.346884\n",
            "  Validation: acc. 82.8%, Avg loss: 0.369665\n",
            "Epoch 28\n",
            "-------------------------------\n",
            "  Training: Avg loss: 0.345210\n",
            "  Validation: acc. 82.7%, Avg loss: 0.370589\n",
            "Epoch 29\n",
            "-------------------------------\n",
            "  Training: Avg loss: 0.342751\n",
            "  Validation: acc. 82.8%, Avg loss: 0.370467\n",
            "Epoch 30\n",
            "-------------------------------\n"
          ]
        },
        {
          "ename": "KeyboardInterrupt",
          "evalue": "ignored",
          "output_type": "error",
          "traceback": [
            "\u001b[0;31m---------------------------------------------------------------------------\u001b[0m",
            "\u001b[0;31mKeyboardInterrupt\u001b[0m                         Traceback (most recent call last)",
            "\u001b[0;32m<ipython-input-130-5f077cdb0f9f>\u001b[0m in \u001b[0;36m<module>\u001b[0;34m\u001b[0m\n\u001b[1;32m      7\u001b[0m \u001b[0;32mfor\u001b[0m \u001b[0mt\u001b[0m \u001b[0;32min\u001b[0m \u001b[0mrange\u001b[0m\u001b[0;34m(\u001b[0m\u001b[0mEPOCHS\u001b[0m\u001b[0;34m)\u001b[0m\u001b[0;34m:\u001b[0m\u001b[0;34m\u001b[0m\u001b[0;34m\u001b[0m\u001b[0m\n\u001b[1;32m      8\u001b[0m     \u001b[0mprint\u001b[0m\u001b[0;34m(\u001b[0m\u001b[0;34mf\"Epoch {t+1}\\n-------------------------------\"\u001b[0m\u001b[0;34m)\u001b[0m\u001b[0;34m\u001b[0m\u001b[0;34m\u001b[0m\u001b[0m\n\u001b[0;32m----> 9\u001b[0;31m     \u001b[0mtloss\u001b[0m \u001b[0;34m=\u001b[0m \u001b[0mtrain_loop\u001b[0m\u001b[0;34m(\u001b[0m\u001b[0mtrain_loader\u001b[0m\u001b[0;34m,\u001b[0m \u001b[0mquestioner\u001b[0m\u001b[0;34m,\u001b[0m \u001b[0mcriterion\u001b[0m\u001b[0;34m,\u001b[0m \u001b[0moptimizer\u001b[0m\u001b[0;34m)\u001b[0m\u001b[0;34m\u001b[0m\u001b[0;34m\u001b[0m\u001b[0m\n\u001b[0m\u001b[1;32m     10\u001b[0m     \u001b[0mprint\u001b[0m\u001b[0;34m(\u001b[0m\u001b[0;34mf\"  Training: Avg loss: {tloss:>8f}\"\u001b[0m\u001b[0;34m)\u001b[0m\u001b[0;34m\u001b[0m\u001b[0;34m\u001b[0m\u001b[0m\n\u001b[1;32m     11\u001b[0m     \u001b[0mvloss\u001b[0m\u001b[0;34m,\u001b[0m \u001b[0mvcorrect\u001b[0m \u001b[0;34m=\u001b[0m \u001b[0mtest_loop\u001b[0m\u001b[0;34m(\u001b[0m\u001b[0mvalid_loader\u001b[0m\u001b[0;34m,\u001b[0m \u001b[0mquestioner\u001b[0m\u001b[0;34m,\u001b[0m \u001b[0mcriterion\u001b[0m\u001b[0;34m)\u001b[0m\u001b[0;34m\u001b[0m\u001b[0;34m\u001b[0m\u001b[0m\n",
            "\u001b[0;32m<ipython-input-129-449b9883cc7a>\u001b[0m in \u001b[0;36mtrain_loop\u001b[0;34m(dataloader, model, loss_fn, optimizer, log)\u001b[0m\n\u001b[1;32m     16\u001b[0m         \u001b[0;31m# forward + backward + optimize\u001b[0m\u001b[0;34m\u001b[0m\u001b[0;34m\u001b[0m\u001b[0;34m\u001b[0m\u001b[0m\n\u001b[1;32m     17\u001b[0m         \u001b[0mx_a\u001b[0m\u001b[0;34m,\u001b[0m \u001b[0mx_b\u001b[0m \u001b[0;34m=\u001b[0m \u001b[0minputs\u001b[0m\u001b[0;34m[\u001b[0m\u001b[0;34m:\u001b[0m\u001b[0;34m,\u001b[0m \u001b[0;36m0\u001b[0m\u001b[0;34m,\u001b[0m \u001b[0;34m:\u001b[0m\u001b[0;34m]\u001b[0m\u001b[0;34m,\u001b[0m \u001b[0minputs\u001b[0m\u001b[0;34m[\u001b[0m\u001b[0;34m:\u001b[0m\u001b[0;34m,\u001b[0m \u001b[0;36m1\u001b[0m\u001b[0;34m,\u001b[0m \u001b[0;34m:\u001b[0m\u001b[0;34m]\u001b[0m\u001b[0;34m\u001b[0m\u001b[0;34m\u001b[0m\u001b[0m\n\u001b[0;32m---> 18\u001b[0;31m         \u001b[0moutputs\u001b[0m \u001b[0;34m=\u001b[0m \u001b[0mmodel\u001b[0m\u001b[0;34m(\u001b[0m\u001b[0mx_a\u001b[0m\u001b[0;34m,\u001b[0m \u001b[0mx_b\u001b[0m\u001b[0;34m)\u001b[0m\u001b[0;34m\u001b[0m\u001b[0;34m\u001b[0m\u001b[0m\n\u001b[0m\u001b[1;32m     19\u001b[0m \u001b[0;34m\u001b[0m\u001b[0m\n\u001b[1;32m     20\u001b[0m         \u001b[0mloss\u001b[0m \u001b[0;34m=\u001b[0m \u001b[0mloss_fn\u001b[0m\u001b[0;34m(\u001b[0m\u001b[0moutputs\u001b[0m\u001b[0;34m,\u001b[0m \u001b[0mlabels\u001b[0m\u001b[0;34m)\u001b[0m\u001b[0;34m\u001b[0m\u001b[0;34m\u001b[0m\u001b[0m\n",
            "\u001b[0;32m/usr/local/lib/python3.7/dist-packages/torch/nn/modules/module.py\u001b[0m in \u001b[0;36m_call_impl\u001b[0;34m(self, *input, **kwargs)\u001b[0m\n\u001b[1;32m   1128\u001b[0m         if not (self._backward_hooks or self._forward_hooks or self._forward_pre_hooks or _global_backward_hooks\n\u001b[1;32m   1129\u001b[0m                 or _global_forward_hooks or _global_forward_pre_hooks):\n\u001b[0;32m-> 1130\u001b[0;31m             \u001b[0;32mreturn\u001b[0m \u001b[0mforward_call\u001b[0m\u001b[0;34m(\u001b[0m\u001b[0;34m*\u001b[0m\u001b[0minput\u001b[0m\u001b[0;34m,\u001b[0m \u001b[0;34m**\u001b[0m\u001b[0mkwargs\u001b[0m\u001b[0;34m)\u001b[0m\u001b[0;34m\u001b[0m\u001b[0;34m\u001b[0m\u001b[0m\n\u001b[0m\u001b[1;32m   1131\u001b[0m         \u001b[0;31m# Do not call functions when jit is used\u001b[0m\u001b[0;34m\u001b[0m\u001b[0;34m\u001b[0m\u001b[0;34m\u001b[0m\u001b[0m\n\u001b[1;32m   1132\u001b[0m         \u001b[0mfull_backward_hooks\u001b[0m\u001b[0;34m,\u001b[0m \u001b[0mnon_full_backward_hooks\u001b[0m \u001b[0;34m=\u001b[0m \u001b[0;34m[\u001b[0m\u001b[0;34m]\u001b[0m\u001b[0;34m,\u001b[0m \u001b[0;34m[\u001b[0m\u001b[0;34m]\u001b[0m\u001b[0;34m\u001b[0m\u001b[0;34m\u001b[0m\u001b[0m\n",
            "\u001b[0;32m<ipython-input-126-b1c5a725fccd>\u001b[0m in \u001b[0;36mforward\u001b[0;34m(self, x_a, x_b)\u001b[0m\n\u001b[1;32m     17\u001b[0m     \u001b[0;32mdef\u001b[0m \u001b[0mforward\u001b[0m\u001b[0;34m(\u001b[0m\u001b[0mself\u001b[0m\u001b[0;34m,\u001b[0m \u001b[0mx_a\u001b[0m\u001b[0;34m,\u001b[0m \u001b[0mx_b\u001b[0m\u001b[0;34m)\u001b[0m\u001b[0;34m:\u001b[0m\u001b[0;34m\u001b[0m\u001b[0;34m\u001b[0m\u001b[0m\n\u001b[1;32m     18\u001b[0m         \u001b[0;31m# x_a, x_b = x[0], x[1]  # unpacking question embeddings (embed_dim)\u001b[0m\u001b[0;34m\u001b[0m\u001b[0;34m\u001b[0m\u001b[0;34m\u001b[0m\u001b[0m\n\u001b[0;32m---> 19\u001b[0;31m         \u001b[0mx_a\u001b[0m \u001b[0;34m=\u001b[0m \u001b[0mself\u001b[0m\u001b[0;34m.\u001b[0m\u001b[0mprojection\u001b[0m\u001b[0;34m(\u001b[0m\u001b[0mx_a\u001b[0m\u001b[0;34m)\u001b[0m  \u001b[0;31m# linear projection of x_a (embed_dim)\u001b[0m\u001b[0;34m\u001b[0m\u001b[0;34m\u001b[0m\u001b[0m\n\u001b[0m\u001b[1;32m     20\u001b[0m         \u001b[0mx_b\u001b[0m \u001b[0;34m=\u001b[0m \u001b[0mself\u001b[0m\u001b[0;34m.\u001b[0m\u001b[0mprojection\u001b[0m\u001b[0;34m(\u001b[0m\u001b[0mx_b\u001b[0m\u001b[0;34m)\u001b[0m  \u001b[0;31m# linear projection of x_b (embed_dim)\u001b[0m\u001b[0;34m\u001b[0m\u001b[0;34m\u001b[0m\u001b[0m\n\u001b[1;32m     21\u001b[0m         \u001b[0mx\u001b[0m \u001b[0;34m=\u001b[0m \u001b[0mx_a\u001b[0m \u001b[0;34m+\u001b[0m \u001b[0mx_b\u001b[0m  \u001b[0;31m# additive/multiplicative feature fusion\u001b[0m\u001b[0;34m\u001b[0m\u001b[0;34m\u001b[0m\u001b[0m\n",
            "\u001b[0;32m/usr/local/lib/python3.7/dist-packages/torch/nn/modules/module.py\u001b[0m in \u001b[0;36m_call_impl\u001b[0;34m(self, *input, **kwargs)\u001b[0m\n\u001b[1;32m   1128\u001b[0m         if not (self._backward_hooks or self._forward_hooks or self._forward_pre_hooks or _global_backward_hooks\n\u001b[1;32m   1129\u001b[0m                 or _global_forward_hooks or _global_forward_pre_hooks):\n\u001b[0;32m-> 1130\u001b[0;31m             \u001b[0;32mreturn\u001b[0m \u001b[0mforward_call\u001b[0m\u001b[0;34m(\u001b[0m\u001b[0;34m*\u001b[0m\u001b[0minput\u001b[0m\u001b[0;34m,\u001b[0m \u001b[0;34m**\u001b[0m\u001b[0mkwargs\u001b[0m\u001b[0;34m)\u001b[0m\u001b[0;34m\u001b[0m\u001b[0;34m\u001b[0m\u001b[0m\n\u001b[0m\u001b[1;32m   1131\u001b[0m         \u001b[0;31m# Do not call functions when jit is used\u001b[0m\u001b[0;34m\u001b[0m\u001b[0;34m\u001b[0m\u001b[0;34m\u001b[0m\u001b[0m\n\u001b[1;32m   1132\u001b[0m         \u001b[0mfull_backward_hooks\u001b[0m\u001b[0;34m,\u001b[0m \u001b[0mnon_full_backward_hooks\u001b[0m \u001b[0;34m=\u001b[0m \u001b[0;34m[\u001b[0m\u001b[0;34m]\u001b[0m\u001b[0;34m,\u001b[0m \u001b[0;34m[\u001b[0m\u001b[0;34m]\u001b[0m\u001b[0;34m\u001b[0m\u001b[0;34m\u001b[0m\u001b[0m\n",
            "\u001b[0;32m/usr/local/lib/python3.7/dist-packages/torch/nn/modules/linear.py\u001b[0m in \u001b[0;36mforward\u001b[0;34m(self, input)\u001b[0m\n\u001b[1;32m    112\u001b[0m \u001b[0;34m\u001b[0m\u001b[0m\n\u001b[1;32m    113\u001b[0m     \u001b[0;32mdef\u001b[0m \u001b[0mforward\u001b[0m\u001b[0;34m(\u001b[0m\u001b[0mself\u001b[0m\u001b[0;34m,\u001b[0m \u001b[0minput\u001b[0m\u001b[0;34m:\u001b[0m \u001b[0mTensor\u001b[0m\u001b[0;34m)\u001b[0m \u001b[0;34m->\u001b[0m \u001b[0mTensor\u001b[0m\u001b[0;34m:\u001b[0m\u001b[0;34m\u001b[0m\u001b[0;34m\u001b[0m\u001b[0m\n\u001b[0;32m--> 114\u001b[0;31m         \u001b[0;32mreturn\u001b[0m \u001b[0mF\u001b[0m\u001b[0;34m.\u001b[0m\u001b[0mlinear\u001b[0m\u001b[0;34m(\u001b[0m\u001b[0minput\u001b[0m\u001b[0;34m,\u001b[0m \u001b[0mself\u001b[0m\u001b[0;34m.\u001b[0m\u001b[0mweight\u001b[0m\u001b[0;34m,\u001b[0m \u001b[0mself\u001b[0m\u001b[0;34m.\u001b[0m\u001b[0mbias\u001b[0m\u001b[0;34m)\u001b[0m\u001b[0;34m\u001b[0m\u001b[0;34m\u001b[0m\u001b[0m\n\u001b[0m\u001b[1;32m    115\u001b[0m \u001b[0;34m\u001b[0m\u001b[0m\n\u001b[1;32m    116\u001b[0m     \u001b[0;32mdef\u001b[0m \u001b[0mextra_repr\u001b[0m\u001b[0;34m(\u001b[0m\u001b[0mself\u001b[0m\u001b[0;34m)\u001b[0m \u001b[0;34m->\u001b[0m \u001b[0mstr\u001b[0m\u001b[0;34m:\u001b[0m\u001b[0;34m\u001b[0m\u001b[0;34m\u001b[0m\u001b[0m\n",
            "\u001b[0;31mKeyboardInterrupt\u001b[0m: "
          ]
        }
      ],
      "source": [
        "EPOCHS = 1000\n",
        "PATIENCE = 15\n",
        "\n",
        "tloss_hist, vloss_hist = [], []\n",
        "vloss_best, vloss_wait = 100, 0\n",
        "\n",
        "for t in range(EPOCHS):\n",
        "    print(f\"Epoch {t+1}\\n-------------------------------\")\n",
        "    tloss = train_loop(train_loader, questioner, criterion, optimizer)\n",
        "    print(f\"  Training: Avg loss: {tloss:>8f}\")\n",
        "    vloss, vcorrect = test_loop(valid_loader, questioner, criterion)\n",
        "    print(f\"  Validation: acc. {(100*vcorrect):>0.1f}%, Avg loss: {vloss:>8f}\")\n",
        "\n",
        "    if vloss < vloss_best:\n",
        "      vloss_best = vloss # update the best loss\n",
        "      vloss_wait = 0  # reset the wait\n",
        "    else:  # not improving the validation loss\n",
        "      vloss_wait += 1\n",
        "\n",
        "    tloss_hist.append(tloss)\n",
        "    vloss_hist.append(vloss)\n",
        "\n",
        "    if vloss_wait == PATIENCE:\n",
        "      print(f\"Early stopping at epoch {t}\")\n",
        "      break  # exit the for-loop\n",
        "\n",
        "\n",
        "tloss, tcorrect = test_loop(test_loader, questioner, criterion)\n",
        "print(f\"\\nTest: accuracy {(100*vcorrect):>0.1f}%, Avg loss: {vloss:>8f}\")"
      ]
    },
    {
      "cell_type": "code",
      "execution_count": null,
      "metadata": {
        "id": "SCFJbOR0T4zy"
      },
      "outputs": [],
      "source": []
    },
    {
      "cell_type": "code",
      "execution_count": null,
      "metadata": {
        "colab": {
          "base_uri": "https://localhost:8080/",
          "height": 407
        },
        "id": "ZosEfC8nNoUW",
        "outputId": "6e67548c-1683-4067-8b9a-eb2fb4c61523"
      },
      "outputs": [
        {
          "name": "stderr",
          "output_type": "stream",
          "text": [
            "/usr/local/lib/python3.7/dist-packages/seaborn/_decorators.py:43: FutureWarning: Pass the following variables as keyword args: x, y. From version 0.12, the only valid positional argument will be `data`, and passing other arguments without an explicit keyword will result in an error or misinterpretation.\n",
            "  FutureWarning\n",
            "/usr/local/lib/python3.7/dist-packages/seaborn/_decorators.py:43: FutureWarning: Pass the following variables as keyword args: x, y. From version 0.12, the only valid positional argument will be `data`, and passing other arguments without an explicit keyword will result in an error or misinterpretation.\n",
            "  FutureWarning\n"
          ]
        },
        {
          "data": {
            "text/plain": [
              "<matplotlib.axes._subplots.AxesSubplot at 0x7fe2e6d235d0>"
            ]
          },
          "execution_count": 131,
          "metadata": {},
          "output_type": "execute_result"
        },
        {
          "data": {
            "image/png": "[encoded data removed]",
            "text/plain": [
              "<Figure size 1800x360 with 1 Axes>"
            ]
          },
          "metadata": {
            "needs_background": "light"
          },
          "output_type": "display_data"
        }
      ],
      "source": [
        "fig, axes = plt.subplots(figsize=(25, 5))\n",
        "\n",
        "sns.lineplot(list(range(len(tloss_hist))), tloss_hist, ax=axes)\n",
        "sns.lineplot(list(range(len(vloss_hist))), vloss_hist, ax=axes)"
      ]
    },
    {
      "cell_type": "code",
      "execution_count": null,
      "metadata": {
        "id": "VTjLhaojhRQR"
      },
      "outputs": [],
      "source": []
    }
  ],
  "metadata": {
    "accelerator": "GPU",
    "colab": {
      "provenance": [],
      "toc_visible": true
    },
    "gpuClass": "standard",
    "kernelspec": {
      "display_name": "Python 3",
      "name": "python3"
    },
    "language_info": {
      "name": "python"
    }
  },
  "nbformat": 4,
  "nbformat_minor": 0
}
